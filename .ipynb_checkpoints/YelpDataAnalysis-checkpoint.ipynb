{
 "cells": [
  {
   "cell_type": "code",
   "execution_count": 1,
   "metadata": {},
   "outputs": [
    {
     "name": "stderr",
     "output_type": "stream",
     "text": [
      "/Users/vinithangadi/.pyenv/versions/3.7.5/lib/python3.7/site-packages/pandas/compat/__init__.py:117: UserWarning: Could not import the lzma module. Your installed Python is incomplete. Attempting to use lzma compression will result in a RuntimeError.\n",
      "  warnings.warn(msg)\n"
     ]
    }
   ],
   "source": [
    "import findspark\n",
    "findspark.init()\n",
    "from pyspark import SparkContext as sc\n",
    "import pandas as pd\n",
    "import os\n",
    "import numpy as np\n",
    "from pyspark.sql import SQLContext\n",
    "import json\n",
    "import pyspark\n",
    "\n",
    "#data_path = ['../Data']\n",
    "#Business_filepath = os.sep.join(['yelp_academic_dataset_business.json'])\n",
    "\n",
    "\n",
    "\n",
    "\n",
    "#Load Business data\n",
    "#Business_data = sqlContext.read.json(Business_filepath)"
   ]
  },
  {
   "cell_type": "code",
   "execution_count": null,
   "metadata": {},
   "outputs": [],
   "source": [
    "#Initializing Spark Context\n",
    "sc = sc(appName=\"Yelp\")\n",
    "sqlContext = SQLContext(sc)"
   ]
  },
  {
   "cell_type": "code",
   "execution_count": null,
   "metadata": {},
   "outputs": [],
   "source": [
    "#Reading JSON data\n",
    "Business_data = sqlContext.read.json(Business_filepath)"
   ]
  },
  {
   "cell_type": "code",
   "execution_count": 34,
   "metadata": {},
   "outputs": [
    {
     "name": "stdout",
     "output_type": "stream",
     "text": [
      "+-------+-------------------+\n",
      "|summary|            is_open|\n",
      "+-------+-------------------+\n",
      "|  count|             209393|\n",
      "|   mean|  0.806631549287703|\n",
      "| stddev|0.39494029660970476|\n",
      "|    min|                  0|\n",
      "|    max|                  1|\n",
      "+-------+-------------------+\n",
      "\n"
     ]
    }
   ],
   "source": [
    "Business_data.describe('is_open').show()"
   ]
  },
  {
   "cell_type": "code",
   "execution_count": 17,
   "metadata": {},
   "outputs": [
    {
     "data": {
      "text/plain": [
       "numpy.ndarray"
      ]
     },
     "execution_count": 17,
     "metadata": {},
     "output_type": "execute_result"
    }
   ],
   "source": [
    "type(np.array(Business_data.categories.values))"
   ]
  },
  {
   "cell_type": "code",
   "execution_count": 30,
   "metadata": {},
   "outputs": [
    {
     "name": "stdout",
     "output_type": "stream",
     "text": [
      "+-------------------+-------------+------------------+------------------+\n",
      "|               city|     category|     AverageReview|      AverageStars|\n",
      "+-------------------+-------------+------------------+------------------+\n",
      "|         Scottsdale|       Health|17.955139125496878| 4.034923339011925|\n",
      "|          Beachwood|         Arts|             8.875|            4.3125|\n",
      "|        Scarborough|    Shopping,| 7.475806451612903|3.0524193548387095|\n",
      "|        Rocky River|     Spirits,|              31.0|             3.625|\n",
      "|              Parma|(Traditional)|48.285714285714285| 3.357142857142857|\n",
      "|          East York|      Donuts,|               3.0|               1.5|\n",
      "|            Phoenix|    Services,|24.197680157946692|3.6712117472852914|\n",
      "|             Peoria|      Fishing|              29.5|              4.75|\n",
      "|          Las Vegas|         Vape|24.819875776397517| 4.062111801242236|\n",
      "|           Glendale|      Massage|15.084745762711865| 4.338983050847458|\n",
      "|             Peoria|         Nail| 34.08695652173913|3.5942028985507246|\n",
      "|             Peoria|       Waxing| 45.42857142857143| 3.857142857142857|\n",
      "|            Toronto|       Books,|13.311475409836065|3.8135245901639343|\n",
      "|             Oregon| Instruction,|               6.0|               3.0|\n",
      "|               Mesa|        Shop,|             58.75|               3.5|\n",
      "|            Phoenix|      Packing| 35.80263157894737|3.6184210526315788|\n",
      "|          Charlotte|Obstetricians|               9.1|3.1666666666666665|\n",
      "|     Laveen Village|    Southern,|              11.0|               3.5|\n",
      "|        Pierrefonds|         Auto|               3.0|2.6666666666666665|\n",
      "|Saint-Joseph-du-Lac|         Arts|               3.0|               5.0|\n",
      "+-------------------+-------------+------------------+------------------+\n",
      "only showing top 20 rows\n",
      "\n"
     ]
    }
   ],
   "source": [
    "from pyspark.sql.functions import explode\n",
    "from pyspark.sql.functions import split\n",
    "from pyspark.sql.functions import col\n",
    "\n",
    "#Filter out the attributes that you need\n",
    "#arr_categories = Business_data.loc[:,'categories'].values\n",
    "\n",
    "Business = Business_data.select(explode(split(col('categories'), \"\\s+\")).alias(\"category\"),Business_data.state,  Business_data.city, Business_data.stars, Business_data.review_count)\n",
    "\n",
    "#Register as temp table\n",
    "Business.registerTempTable(\"Business_Agg\")\n",
    "\n",
    "#Run the SQL Query\n",
    "result = sqlContext.sql(\"SELECT Business_Agg.city, Business_Agg.category,\\\n",
    "AVG(Business_Agg.review_count) As AverageReview,\\\n",
    "AVG(Business_Agg.stars) as AverageStars FROM Business_Agg GROUP BY Business_Agg.city, Business_Agg.category\")\n",
    "\n",
    "#saving the result in a csv file\n",
    "result.coalesce(1).write.format('com.databricks.spark.csv').option(\"header\", \"true\").save('Question1')\n",
    "#Check the result\n",
    "result.show()"
   ]
  },
  {
   "cell_type": "code",
   "execution_count": 32,
   "metadata": {},
   "outputs": [
    {
     "name": "stdout",
     "output_type": "stream",
     "text": [
      "+--------+------------------+\n",
      "|category|             Stars|\n",
      "+--------+------------------+\n",
      "| Mexican|3.3838582677165356|\n",
      "+--------+------------------+\n",
      "\n"
     ]
    }
   ],
   "source": [
    "#Flatten the category array\n",
    "CategoryExplo = Business_data.select(explode(split(col('categories'), \"\\s+\")).alias(\"category\"),\\\n",
    "                                    Business_data.attributes, Business_data.stars)\n",
    "\n",
    "#Filter out Mexican and TakeOut\n",
    "CategoryAtt = CategoryExplo.select(CategoryExplo.attributes.RestaurantsTakeOut.alias(\"takeout\"),\\\n",
    "                                   CategoryExplo.category, CategoryExplo.stars)\n",
    "\n",
    "CategoryAtt.registerTempTable(\"CategoryAtt\")\n",
    "\n",
    "#Run the query on the table\n",
    "MexicanTakeout = \"SELECT category, AVG(stars) AS Stars FROM CategoryAtt WHERE category = 'Mexican' \\\n",
    "AND takeout = True GROUP BY category\"\n",
    "RatingMexicanTakeO = sqlContext.sql(MexicanTakeout)\n",
    "\n",
    "RatingMexicanTakeO.show()"
   ]
  },
  {
   "cell_type": "code",
   "execution_count": 33,
   "metadata": {},
   "outputs": [],
   "source": [
    "RatingMexicanTakeO.coalesce(1).write.format('com.databricks.spark.csv').option(\"header\", \"true\").save('Question3')"
   ]
  },
  {
   "cell_type": "code",
   "execution_count": null,
   "metadata": {},
   "outputs": [],
   "source": []
  }
 ],
 "metadata": {
  "kernelspec": {
   "display_name": "Python 3",
   "language": "python",
   "name": "python3"
  },
  "language_info": {
   "codemirror_mode": {
    "name": "ipython",
    "version": 3
   },
   "file_extension": ".py",
   "mimetype": "text/x-python",
   "name": "python",
   "nbconvert_exporter": "python",
   "pygments_lexer": "ipython3",
   "version": "3.7.5"
  }
 },
 "nbformat": 4,
 "nbformat_minor": 4
}
