{
 "cells": [
  {
   "cell_type": "code",
   "execution_count": 14,
   "metadata": {},
   "outputs": [],
   "source": [
    "import findspark\n",
    "findspark.init()\n",
    "from pyspark import SparkContext as sc\n",
    "import pandas as pd\n",
    "import numpy as np\n",
    "from pyspark.sql import SparkSession\n",
    "import json\n",
    "import pyspark\n",
    "\n",
    "#data_path = ['../Data']\n",
    "#Business_filepath = os.sep.join(['yelp_academic_dataset_business.json'])\n",
    "\n",
    "\n",
    "\n",
    "\n",
    "#Load Business data\n",
    "#Business_data = sqlContext.read.json(Business_filepath)"
   ]
  },
  {
   "cell_type": "code",
   "execution_count": 15,
   "metadata": {},
   "outputs": [],
   "source": [
    "#Initializing Spark Context\n",
    "spark = SparkSession.builder.appName(\"Yelp Data Analysis\").getOrCreate()"
   ]
  },
  {
   "cell_type": "code",
   "execution_count": 16,
   "metadata": {},
   "outputs": [],
   "source": [
    "#Reading JSON data\n",
    "Business_data = spark.read.json(\"Data/yelp_academic_dataset_business.json\")\n",
    "Reviews_data = spark.read.json(\"Data/yelp_academic_dataset_review.json\")\n",
    "User_data = spark.read.json(\"Data/yelp_academic_dataset_user.json\")"
   ]
  },
  {
   "cell_type": "code",
   "execution_count": 17,
   "metadata": {},
   "outputs": [
    {
     "name": "stdout",
     "output_type": "stream",
     "text": [
      "root\n",
      " |-- address: string (nullable = true)\n",
      " |-- attributes: struct (nullable = true)\n",
      " |    |-- AcceptsInsurance: string (nullable = true)\n",
      " |    |-- AgesAllowed: string (nullable = true)\n",
      " |    |-- Alcohol: string (nullable = true)\n",
      " |    |-- Ambience: string (nullable = true)\n",
      " |    |-- BYOB: string (nullable = true)\n",
      " |    |-- BYOBCorkage: string (nullable = true)\n",
      " |    |-- BestNights: string (nullable = true)\n",
      " |    |-- BikeParking: string (nullable = true)\n",
      " |    |-- BusinessAcceptsBitcoin: string (nullable = true)\n",
      " |    |-- BusinessAcceptsCreditCards: string (nullable = true)\n",
      " |    |-- BusinessParking: string (nullable = true)\n",
      " |    |-- ByAppointmentOnly: string (nullable = true)\n",
      " |    |-- Caters: string (nullable = true)\n",
      " |    |-- CoatCheck: string (nullable = true)\n",
      " |    |-- Corkage: string (nullable = true)\n",
      " |    |-- DietaryRestrictions: string (nullable = true)\n",
      " |    |-- DogsAllowed: string (nullable = true)\n",
      " |    |-- DriveThru: string (nullable = true)\n",
      " |    |-- GoodForDancing: string (nullable = true)\n",
      " |    |-- GoodForKids: string (nullable = true)\n",
      " |    |-- GoodForMeal: string (nullable = true)\n",
      " |    |-- HairSpecializesIn: string (nullable = true)\n",
      " |    |-- HappyHour: string (nullable = true)\n",
      " |    |-- HasTV: string (nullable = true)\n",
      " |    |-- Music: string (nullable = true)\n",
      " |    |-- NoiseLevel: string (nullable = true)\n",
      " |    |-- Open24Hours: string (nullable = true)\n",
      " |    |-- OutdoorSeating: string (nullable = true)\n",
      " |    |-- RestaurantsAttire: string (nullable = true)\n",
      " |    |-- RestaurantsCounterService: string (nullable = true)\n",
      " |    |-- RestaurantsDelivery: string (nullable = true)\n",
      " |    |-- RestaurantsGoodForGroups: string (nullable = true)\n",
      " |    |-- RestaurantsPriceRange2: string (nullable = true)\n",
      " |    |-- RestaurantsReservations: string (nullable = true)\n",
      " |    |-- RestaurantsTableService: string (nullable = true)\n",
      " |    |-- RestaurantsTakeOut: string (nullable = true)\n",
      " |    |-- Smoking: string (nullable = true)\n",
      " |    |-- WheelchairAccessible: string (nullable = true)\n",
      " |    |-- WiFi: string (nullable = true)\n",
      " |-- business_id: string (nullable = true)\n",
      " |-- categories: string (nullable = true)\n",
      " |-- city: string (nullable = true)\n",
      " |-- hours: struct (nullable = true)\n",
      " |    |-- Friday: string (nullable = true)\n",
      " |    |-- Monday: string (nullable = true)\n",
      " |    |-- Saturday: string (nullable = true)\n",
      " |    |-- Sunday: string (nullable = true)\n",
      " |    |-- Thursday: string (nullable = true)\n",
      " |    |-- Tuesday: string (nullable = true)\n",
      " |    |-- Wednesday: string (nullable = true)\n",
      " |-- is_open: long (nullable = true)\n",
      " |-- latitude: double (nullable = true)\n",
      " |-- longitude: double (nullable = true)\n",
      " |-- name: string (nullable = true)\n",
      " |-- postal_code: string (nullable = true)\n",
      " |-- review_count: long (nullable = true)\n",
      " |-- stars: double (nullable = true)\n",
      " |-- state: string (nullable = true)\n",
      "\n"
     ]
    }
   ],
   "source": [
    "Business_data.printSchema()"
   ]
  },
  {
   "cell_type": "code",
   "execution_count": 18,
   "metadata": {},
   "outputs": [
    {
     "name": "stdout",
     "output_type": "stream",
     "text": [
      "root\n",
      " |-- business_id: string (nullable = true)\n",
      " |-- cool: long (nullable = true)\n",
      " |-- date: string (nullable = true)\n",
      " |-- funny: long (nullable = true)\n",
      " |-- review_id: string (nullable = true)\n",
      " |-- stars: double (nullable = true)\n",
      " |-- text: string (nullable = true)\n",
      " |-- useful: long (nullable = true)\n",
      " |-- user_id: string (nullable = true)\n",
      "\n"
     ]
    }
   ],
   "source": [
    "Reviews_data.printSchema()"
   ]
  },
  {
   "cell_type": "code",
   "execution_count": 19,
   "metadata": {},
   "outputs": [
    {
     "name": "stdout",
     "output_type": "stream",
     "text": [
      "root\n",
      " |-- average_stars: double (nullable = true)\n",
      " |-- compliment_cool: long (nullable = true)\n",
      " |-- compliment_cute: long (nullable = true)\n",
      " |-- compliment_funny: long (nullable = true)\n",
      " |-- compliment_hot: long (nullable = true)\n",
      " |-- compliment_list: long (nullable = true)\n",
      " |-- compliment_more: long (nullable = true)\n",
      " |-- compliment_note: long (nullable = true)\n",
      " |-- compliment_photos: long (nullable = true)\n",
      " |-- compliment_plain: long (nullable = true)\n",
      " |-- compliment_profile: long (nullable = true)\n",
      " |-- compliment_writer: long (nullable = true)\n",
      " |-- cool: long (nullable = true)\n",
      " |-- elite: string (nullable = true)\n",
      " |-- fans: long (nullable = true)\n",
      " |-- friends: string (nullable = true)\n",
      " |-- funny: long (nullable = true)\n",
      " |-- name: string (nullable = true)\n",
      " |-- review_count: long (nullable = true)\n",
      " |-- useful: long (nullable = true)\n",
      " |-- user_id: string (nullable = true)\n",
      " |-- yelping_since: string (nullable = true)\n",
      "\n"
     ]
    }
   ],
   "source": [
    "User_data.printSchema()"
   ]
  },
  {
   "cell_type": "code",
   "execution_count": 20,
   "metadata": {},
   "outputs": [
    {
     "name": "stdout",
     "output_type": "stream",
     "text": [
      "root\n",
      " |-- Call To Action enabled: string (nullable = true)\n",
      " |-- Covid Banner: string (nullable = true)\n",
      " |-- Grubhub enabled: string (nullable = true)\n",
      " |-- Request a Quote Enabled: string (nullable = true)\n",
      " |-- Temporary Closed Until: string (nullable = true)\n",
      " |-- Virtual Services Offered: string (nullable = true)\n",
      " |-- business_id: string (nullable = true)\n",
      " |-- delivery or takeout: string (nullable = true)\n",
      " |-- highlights: string (nullable = true)\n",
      "\n"
     ]
    }
   ],
   "source": [
    "COVID_data.printSchema()"
   ]
  },
  {
   "cell_type": "code",
   "execution_count": 21,
   "metadata": {},
   "outputs": [],
   "source": [
    "COVID_data = COVID_data.withColumnRenamed('Call To Action enabled', 'Call_To_Action_enabled')\\\n",
    "                        .withColumnRenamed('Covid Banner', 'Covid_Banner')\\\n",
    "                        .withColumnRenamed('Grubhub enabled', 'Grubhub_enabled')\\\n",
    "                        .withColumnRenamed('Request a Quote Enabled', 'Request_a_Quote_Enabled')\\\n",
    "                        .withColumnRenamed('Temporary Closed Until', 'Temporary_Closed_Until')\\\n",
    "                        .withColumnRenamed('Virtual Services Offered', 'Virtual_Services_Offered')\\\n",
    "                        .withColumnRenamed('delivery or takeout', 'delivery_or_takeout')\\"
   ]
  },
  {
   "cell_type": "code",
   "execution_count": null,
   "metadata": {},
   "outputs": [],
   "source": []
  },
  {
   "cell_type": "code",
   "execution_count": null,
   "metadata": {},
   "outputs": [],
   "source": []
  },
  {
   "cell_type": "code",
   "execution_count": 30,
   "metadata": {},
   "outputs": [
    {
     "name": "stdout",
     "output_type": "stream",
     "text": [
      "+-------------------+-------------+------------------+------------------+\n",
      "|               city|     category|     AverageReview|      AverageStars|\n",
      "+-------------------+-------------+------------------+------------------+\n",
      "|         Scottsdale|       Health|17.955139125496878| 4.034923339011925|\n",
      "|          Beachwood|         Arts|             8.875|            4.3125|\n",
      "|        Scarborough|    Shopping,| 7.475806451612903|3.0524193548387095|\n",
      "|        Rocky River|     Spirits,|              31.0|             3.625|\n",
      "|              Parma|(Traditional)|48.285714285714285| 3.357142857142857|\n",
      "|          East York|      Donuts,|               3.0|               1.5|\n",
      "|            Phoenix|    Services,|24.197680157946692|3.6712117472852914|\n",
      "|             Peoria|      Fishing|              29.5|              4.75|\n",
      "|          Las Vegas|         Vape|24.819875776397517| 4.062111801242236|\n",
      "|           Glendale|      Massage|15.084745762711865| 4.338983050847458|\n",
      "|             Peoria|         Nail| 34.08695652173913|3.5942028985507246|\n",
      "|             Peoria|       Waxing| 45.42857142857143| 3.857142857142857|\n",
      "|            Toronto|       Books,|13.311475409836065|3.8135245901639343|\n",
      "|             Oregon| Instruction,|               6.0|               3.0|\n",
      "|               Mesa|        Shop,|             58.75|               3.5|\n",
      "|            Phoenix|      Packing| 35.80263157894737|3.6184210526315788|\n",
      "|          Charlotte|Obstetricians|               9.1|3.1666666666666665|\n",
      "|     Laveen Village|    Southern,|              11.0|               3.5|\n",
      "|        Pierrefonds|         Auto|               3.0|2.6666666666666665|\n",
      "|Saint-Joseph-du-Lac|         Arts|               3.0|               5.0|\n",
      "+-------------------+-------------+------------------+------------------+\n",
      "only showing top 20 rows\n",
      "\n"
     ]
    }
   ],
   "source": [
    "from pyspark.sql.functions import explode\n",
    "from pyspark.sql.functions import split\n",
    "from pyspark.sql.functions import col\n",
    "\n",
    "#Filter out the attributes that you need\n",
    "#arr_categories = Business_data.loc[:,'categories'].values\n",
    "\n",
    "Business = Business_data.select(explode(split(col('categories'), \"\\s+\")).alias(\"category\"),Business_data.state,  Business_data.city, Business_data.stars, Business_data.review_count)\n",
    "\n",
    "#Register as temp table\n",
    "Business.registerTempTable(\"Business_Agg\")\n",
    "\n",
    "#Run the SQL Query\n",
    "result = sqlContext.sql(\"SELECT Business_Agg.city, Business_Agg.category,\\\n",
    "AVG(Business_Agg.review_count) As AverageReview,\\\n",
    "AVG(Business_Agg.stars) as AverageStars FROM Business_Agg GROUP BY Business_Agg.city, Business_Agg.category\")\n",
    "\n",
    "#saving the result in a csv file\n",
    "result.coalesce(1).write.format('com.databricks.spark.csv').option(\"header\", \"true\").save('Question1')\n",
    "#Check the result\n",
    "result.show()"
   ]
  },
  {
   "cell_type": "code",
   "execution_count": 32,
   "metadata": {},
   "outputs": [
    {
     "name": "stdout",
     "output_type": "stream",
     "text": [
      "+--------+------------------+\n",
      "|category|             Stars|\n",
      "+--------+------------------+\n",
      "| Mexican|3.3838582677165356|\n",
      "+--------+------------------+\n",
      "\n"
     ]
    }
   ],
   "source": [
    "#Flatten the category array\n",
    "CategoryExplo = Business_data.select(explode(split(col('categories'), \"\\s+\")).alias(\"category\"),\\\n",
    "                                    Business_data.attributes, Business_data.stars)\n",
    "\n",
    "#Filter out Mexican and TakeOut\n",
    "CategoryAtt = CategoryExplo.select(CategoryExplo.attributes.RestaurantsTakeOut.alias(\"takeout\"),\\\n",
    "                                   CategoryExplo.category, CategoryExplo.stars)\n",
    "\n",
    "CategoryAtt.registerTempTable(\"CategoryAtt\")\n",
    "\n",
    "#Run the query on the table\n",
    "MexicanTakeout = \"SELECT category, AVG(stars) AS Stars FROM CategoryAtt WHERE category = 'Mexican' \\\n",
    "AND takeout = True GROUP BY category\"\n",
    "RatingMexicanTakeO = sqlContext.sql(MexicanTakeout)\n",
    "\n",
    "RatingMexicanTakeO.show()"
   ]
  },
  {
   "cell_type": "code",
   "execution_count": 33,
   "metadata": {},
   "outputs": [],
   "source": [
    "RatingMexicanTakeO.coalesce(1).write.format('com.databricks.spark.csv').option(\"header\", \"true\").save('Question3')"
   ]
  },
  {
   "cell_type": "code",
   "execution_count": null,
   "metadata": {},
   "outputs": [],
   "source": []
  }
 ],
 "metadata": {
  "kernelspec": {
   "display_name": "Python 3",
   "language": "python",
   "name": "python3"
  },
  "language_info": {
   "codemirror_mode": {
    "name": "ipython",
    "version": 3
   },
   "file_extension": ".py",
   "mimetype": "text/x-python",
   "name": "python",
   "nbconvert_exporter": "python",
   "pygments_lexer": "ipython3",
   "version": "3.7.5"
  }
 },
 "nbformat": 4,
 "nbformat_minor": 4
}
